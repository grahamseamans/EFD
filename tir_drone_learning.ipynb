{
 "cells": [
  {
   "cell_type": "code",
   "execution_count": 9,
   "id": "69783735-0719-4bf2-aab9-e11b4a409ce3",
   "metadata": {},
   "outputs": [],
   "source": [
    "import os\n",
    "import pandas as pd\n",
    "import numpy as np\n",
    "import tensorflow as tf\n",
    "import cv2\n",
    "import scipy\n",
    "\n",
    "import numba"
   ]
  },
  {
   "cell_type": "code",
   "execution_count": 10,
   "id": "07a848df-6480-4626-ad74-edde50942ff7",
   "metadata": {},
   "outputs": [],
   "source": [
    "from IPython.display import Audio, display\n",
    "\n",
    "url_exception = \"http://www.wav-sounds.com/movie/austinpowers.wav\"\n",
    "url_exception = \"https://www.myinstants.com/media/sounds/roblox-death-sound_1.mp3\"\n",
    "\n",
    "\n",
    "def play_sound(self, etype, value, tb, tb_offset=None):\n",
    "    self.showtraceback((etype, value, tb), tb_offset=tb_offset)\n",
    "    display(Audio(url=url_exception, autoplay=True))\n",
    "\n",
    "\n",
    "get_ipython().set_custom_exc((Exception,), play_sound)\n",
    "\n",
    "url_done = (\n",
    "    \"https://sound.peal.io/ps/audios/000/000/537/original/woo_vu_luvub_dub_dub.wav\"\n",
    ")\n",
    "url_done = \"https://www.myinstants.com/media/sounds/taco-bell-bong-sfx.mp3\"\n",
    "url_done = \"https://www.myinstants.com/media/sounds/magic_immune.mp3\"\n",
    "# url_done=\"https://www.myinstants.com/media/sounds/tindeck_1.mp3\"\n",
    "# url_done=\"https://www.myinstants.com/media/sounds/dun_dun_1.mp3\"\n",
    "\n",
    "\n",
    "def allDone():\n",
    "    display(Audio(url=url_done, autoplay=True,))"
   ]
  },
  {
   "cell_type": "code",
   "execution_count": 11,
   "id": "74db8747-2d8f-47af-9e34-186413eddea8",
   "metadata": {},
   "outputs": [],
   "source": [
    "data_dir = os.path.join(os.getcwd(), \"data\")\n",
    "drone_dir = os.path.join(data_dir, \"tir_pavel\")"
   ]
  },
  {
   "cell_type": "code",
   "execution_count": 12,
   "id": "8810b673-f781-4099-930d-e024064788ff",
   "metadata": {},
   "outputs": [
    {
     "name": "stdout",
     "output_type": "stream",
     "text": [
      "(1144, 436, 496)\n",
      "(1144, 436, 496)\n"
     ]
    }
   ],
   "source": [
    "video_files = [\"pavel0.npy\", \"pavel1.npy\", \"pavel2.npy\", \"pavel3.npy\"]\n",
    "\n",
    "video0 = np.load(os.path.join(drone_dir, \"pavel0.npy\"))\n",
    "video_np = []\n",
    "for file in video_files:\n",
    "    video_np.append(np.load(os.path.join(drone_dir, file)))\n",
    "\n",
    "print(video0.shape)\n",
    "print(video_np[0].shape)"
   ]
  },
  {
   "cell_type": "code",
   "execution_count": 13,
   "id": "89f3c0ba-5754-45db-a5f3-c172da665d2e",
   "metadata": {},
   "outputs": [],
   "source": [
    "import datetime as dt\n",
    "\n",
    "\n",
    "timestamp_files = [\n",
    "    \"timestamp0.npy\",\n",
    "    \"timestamp1.npy\",\n",
    "    \"timestamp2.npy\",\n",
    "    \"timestamp3.npy\",\n",
    "]\n",
    "\n",
    "timestamp0 = np.load(os.path.join(drone_dir, \"timestamp0.npy\")).squeeze()\n",
    "timestamp_np = []\n",
    "for file in timestamp_files:\n",
    "    timestamp_np.append(np.load(os.path.join(drone_dir, file)).squeeze())\n",
    "\n",
    "\n",
    "def md(matlab_datenum):\n",
    "    day = dt.datetime.fromordinal(int(matlab_datenum))\n",
    "    dayfrac = dt.timedelta(days=matlab_datenum % 1) - dt.timedelta(days=366)\n",
    "    return pd.Timestamp(day + dayfrac).round(\"S\")\n",
    "\n",
    "\n",
    "matlab_to_date = np.vectorize(md)\n",
    "timestamp0 = matlab_to_date(timestamp0)\n",
    "\n",
    "timestamp_np = map(matlab_to_date, timestamp_np)"
   ]
  },
  {
   "cell_type": "code",
   "execution_count": 14,
   "id": "df665b92-89e2-4a62-8d01-c5900054c188",
   "metadata": {},
   "outputs": [
    {
     "data": {
      "text/html": [
       "<div>\n",
       "<style scoped>\n",
       "    .dataframe tbody tr th:only-of-type {\n",
       "        vertical-align: middle;\n",
       "    }\n",
       "\n",
       "    .dataframe tbody tr th {\n",
       "        vertical-align: top;\n",
       "    }\n",
       "\n",
       "    .dataframe thead th {\n",
       "        text-align: right;\n",
       "    }\n",
       "</style>\n",
       "<table border=\"1\" class=\"dataframe\">\n",
       "  <thead>\n",
       "    <tr style=\"text-align: right;\">\n",
       "      <th></th>\n",
       "      <th>frames</th>\n",
       "    </tr>\n",
       "  </thead>\n",
       "  <tbody>\n",
       "    <tr>\n",
       "      <th>2019-08-06 12:29:34</th>\n",
       "      <td>[[nan, nan, nan, nan, nan, nan, nan, nan, nan,...</td>\n",
       "    </tr>\n",
       "    <tr>\n",
       "      <th>2019-08-06 12:29:35</th>\n",
       "      <td>[[nan, nan, nan, nan, nan, nan, nan, nan, nan,...</td>\n",
       "    </tr>\n",
       "    <tr>\n",
       "      <th>2019-08-06 12:29:36</th>\n",
       "      <td>[[nan, nan, nan, nan, nan, nan, nan, nan, nan,...</td>\n",
       "    </tr>\n",
       "    <tr>\n",
       "      <th>2019-08-06 12:29:37</th>\n",
       "      <td>[[nan, nan, nan, nan, nan, nan, nan, nan, nan,...</td>\n",
       "    </tr>\n",
       "    <tr>\n",
       "      <th>2019-08-06 12:29:38</th>\n",
       "      <td>[[nan, nan, nan, nan, nan, nan, nan, nan, nan,...</td>\n",
       "    </tr>\n",
       "    <tr>\n",
       "      <th>...</th>\n",
       "      <td>...</td>\n",
       "    </tr>\n",
       "    <tr>\n",
       "      <th>2019-08-06 12:48:33</th>\n",
       "      <td>[[nan, nan, nan, nan, nan, nan, nan, nan, nan,...</td>\n",
       "    </tr>\n",
       "    <tr>\n",
       "      <th>2019-08-06 12:48:34</th>\n",
       "      <td>[[nan, nan, nan, nan, nan, nan, nan, nan, nan,...</td>\n",
       "    </tr>\n",
       "    <tr>\n",
       "      <th>2019-08-06 12:48:35</th>\n",
       "      <td>[[nan, nan, nan, nan, nan, nan, nan, nan, nan,...</td>\n",
       "    </tr>\n",
       "    <tr>\n",
       "      <th>2019-08-06 12:48:36</th>\n",
       "      <td>[[nan, nan, nan, nan, nan, nan, nan, nan, nan,...</td>\n",
       "    </tr>\n",
       "    <tr>\n",
       "      <th>2019-08-06 12:48:37</th>\n",
       "      <td>[[nan, nan, nan, nan, nan, nan, nan, nan, nan,...</td>\n",
       "    </tr>\n",
       "  </tbody>\n",
       "</table>\n",
       "<p>1144 rows × 1 columns</p>\n",
       "</div>"
      ],
      "text/plain": [
       "                                                                frames\n",
       "2019-08-06 12:29:34  [[nan, nan, nan, nan, nan, nan, nan, nan, nan,...\n",
       "2019-08-06 12:29:35  [[nan, nan, nan, nan, nan, nan, nan, nan, nan,...\n",
       "2019-08-06 12:29:36  [[nan, nan, nan, nan, nan, nan, nan, nan, nan,...\n",
       "2019-08-06 12:29:37  [[nan, nan, nan, nan, nan, nan, nan, nan, nan,...\n",
       "2019-08-06 12:29:38  [[nan, nan, nan, nan, nan, nan, nan, nan, nan,...\n",
       "...                                                                ...\n",
       "2019-08-06 12:48:33  [[nan, nan, nan, nan, nan, nan, nan, nan, nan,...\n",
       "2019-08-06 12:48:34  [[nan, nan, nan, nan, nan, nan, nan, nan, nan,...\n",
       "2019-08-06 12:48:35  [[nan, nan, nan, nan, nan, nan, nan, nan, nan,...\n",
       "2019-08-06 12:48:36  [[nan, nan, nan, nan, nan, nan, nan, nan, nan,...\n",
       "2019-08-06 12:48:37  [[nan, nan, nan, nan, nan, nan, nan, nan, nan,...\n",
       "\n",
       "[1144 rows x 1 columns]"
      ]
     },
     "execution_count": 14,
     "metadata": {},
     "output_type": "execute_result"
    }
   ],
   "source": [
    "video0_df = pd.DataFrame({\"frames\": [*video0]})\n",
    "video0_df.index = timestamp0\n",
    "video0_df\n",
    "\n",
    "video_dfs = []\n",
    "for video, timestamp in zip(video_np, timestamp_np):\n",
    "    video_dfs.append(pd.DataFrame({\"frames\": [*video]}))\n",
    "    video_dfs[-1].index = timestamp\n",
    "\n",
    "video_dfs[0]"
   ]
  },
  {
   "cell_type": "markdown",
   "id": "126e88f3-f1d4-4571-a8c7-0f10d7dd5a4d",
   "metadata": {},
   "source": [
    "#### merging the two:\n",
    "\n",
    "making the data more coarse: \n",
    "* https://stackoverflow.com/a/39952846/6293070\n",
    "* https://pandas.pydata.org/pandas-docs/stable/reference/api/pandas.DataFrame.resample.html \n",
    "* we probably want to resample down to half seconds? and take that average?\n",
    "\n",
    "merging the two:\n",
    "* https://pandas.pydata.org/pandas-docs/stable/reference/api/pandas.merge_asof.html#pandas.merge_asof\n",
    "* https://stackoverflow.com/a/43979285/6293070\n",
    "    "
   ]
  },
  {
   "cell_type": "code",
   "execution_count": 15,
   "id": "b8d2d0b6-202e-4ff6-bfc2-af45666e9745",
   "metadata": {},
   "outputs": [
    {
     "name": "stdout",
     "output_type": "stream",
     "text": [
      "(503881, 29)\n"
     ]
    }
   ],
   "source": [
    "label_df_1 = pd.read_hdf(os.path.join(drone_dir, \"pavel_label_1\"), \"/df\")\n",
    "label_df_2 = pd.read_hdf(os.path.join(drone_dir, \"pavel_label_2\"), \"/df\")\n",
    "label_df = pd.concat([label_df_1, label_df_2], axis=0)\n",
    "print(label_df.shape)"
   ]
  },
  {
   "cell_type": "code",
   "execution_count": 16,
   "id": "726da0aa-e6d5-4687-bbd1-954ec5b02c16",
   "metadata": {},
   "outputs": [
    {
     "name": "stdout",
     "output_type": "stream",
     "text": [
      "(1924190, 29)\n"
     ]
    }
   ],
   "source": [
    "label_df = label_df.resample(\"1S\").median()\n",
    "print(label_df.shape)"
   ]
  },
  {
   "cell_type": "code",
   "execution_count": 17,
   "id": "7babe07f-41f5-49c6-b619-f16883c7f6d7",
   "metadata": {},
   "outputs": [
    {
     "name": "stdout",
     "output_type": "stream",
     "text": [
      "0 days 00:00:05\n",
      "0 days 00:00:00.500000\n"
     ]
    }
   ],
   "source": [
    "print(pd.Timedelta(\"5S\"))\n",
    "print(pd.Timedelta(\"500L\"))"
   ]
  },
  {
   "cell_type": "code",
   "execution_count": 18,
   "id": "150afdc4-dde1-4974-b701-317ea6ab07a0",
   "metadata": {},
   "outputs": [
    {
     "name": "stdout",
     "output_type": "stream",
     "text": [
      "(1144, 30)\n",
      "                                                                frames  \\\n",
      "2019-08-06 12:29:34  [[nan, nan, nan, nan, nan, nan, nan, nan, nan,...   \n",
      "2019-08-06 12:29:35  [[nan, nan, nan, nan, nan, nan, nan, nan, nan,...   \n",
      "2019-08-06 12:29:36  [[nan, nan, nan, nan, nan, nan, nan, nan, nan,...   \n",
      "2019-08-06 12:29:37  [[nan, nan, nan, nan, nan, nan, nan, nan, nan,...   \n",
      "2019-08-06 12:29:38  [[nan, nan, nan, nan, nan, nan, nan, nan, nan,...   \n",
      "2019-08-06 12:29:39  [[nan, nan, nan, nan, nan, nan, nan, nan, nan,...   \n",
      "2019-08-06 12:29:40  [[nan, nan, nan, nan, nan, nan, nan, nan, nan,...   \n",
      "2019-08-06 12:29:41  [[nan, nan, nan, nan, nan, nan, nan, nan, nan,...   \n",
      "2019-08-06 12:29:42  [[nan, nan, nan, nan, nan, nan, nan, nan, nan,...   \n",
      "2019-08-06 12:29:43  [[nan, nan, nan, nan, nan, nan, nan, nan, nan,...   \n",
      "\n",
      "                            0         1        2         3         4  \\\n",
      "2019-08-06 12:29:34  15.47190  303.8815  19.6952  97.70690 -0.913253   \n",
      "2019-08-06 12:29:35  15.47165  301.3815  19.6952  97.70570 -0.914776   \n",
      "2019-08-06 12:29:36  15.47005  304.8920  19.6952  97.70850 -0.910818   \n",
      "2019-08-06 12:29:37  15.47355  300.3725  19.6952  97.70630 -0.915386   \n",
      "2019-08-06 12:29:38  15.46145  315.2350  19.6952  97.70770 -0.916300   \n",
      "2019-08-06 12:29:39  15.47200  303.7530  19.6982  97.70760 -0.919345   \n",
      "2019-08-06 12:29:40  15.47120  305.8085  19.6982  97.70440 -0.919650   \n",
      "2019-08-06 12:29:41  15.47140  330.1105  19.6982  97.70535 -0.915081   \n",
      "2019-08-06 12:29:42  15.47375  301.4455  19.6982  97.70210 -0.917213   \n",
      "2019-08-06 12:29:43  15.47585  300.4510  19.6967  97.70870 -0.914777   \n",
      "\n",
      "                            5         6         7         8  ...       19  \\\n",
      "2019-08-06 12:29:34  389.1105  392.0980  7.643795  7.702665  ...  39101.0   \n",
      "2019-08-06 12:29:35  389.1015  392.0715  7.578760  7.636625  ...  39101.0   \n",
      "2019-08-06 12:29:36  389.0795  392.0735  7.667890  7.727130  ...  39101.0   \n",
      "2019-08-06 12:29:37  389.1105  392.0765  7.552430  7.609895  ...  39101.5   \n",
      "2019-08-06 12:29:38  388.7600  391.8745  7.926335  7.989660  ...  39102.5   \n",
      "2019-08-06 12:29:39  389.0195  392.0275  7.636840  7.695600  ...  39101.0   \n",
      "2019-08-06 12:29:40  389.1105  392.1120  7.689570  7.749155  ...  39102.0   \n",
      "2019-08-06 12:29:41  389.0865  392.1820  8.302055  8.371550  ...  39100.5   \n",
      "2019-08-06 12:29:42  389.0830  392.0580  7.580155  7.638045  ...  39101.0   \n",
      "2019-08-06 12:29:43  389.1840  392.1585  7.557420  7.614960  ...  39100.5   \n",
      "\n",
      "                          20   21       22        23        24        25  \\\n",
      "2019-08-06 12:29:34  37670.0  4.0  22.9421  0.606105 -2.475560 -0.014221   \n",
      "2019-08-06 12:29:35  37670.0  4.0  22.9421  0.606688 -2.436160 -0.191220   \n",
      "2019-08-06 12:29:36  37671.0  4.0  22.9421  0.592013 -2.407295 -0.067681   \n",
      "2019-08-06 12:29:37  37671.0  4.0  22.9421  0.467297 -2.489610 -0.172974   \n",
      "2019-08-06 12:29:38  37670.5  4.0  22.9421  0.455854 -2.386860 -0.050823   \n",
      "2019-08-06 12:29:39  37671.0  4.0  22.9614  0.408049 -2.432540 -0.162052   \n",
      "2019-08-06 12:29:40  37671.0  4.0  22.9614  0.481849 -2.337640 -0.342309   \n",
      "2019-08-06 12:29:41  37670.0  4.0  22.9614  0.321928 -2.414830  0.090364   \n",
      "2019-08-06 12:29:42  37670.0  4.0  22.9614  0.365876 -2.248845  0.128219   \n",
      "2019-08-06 12:29:43  37670.0  4.0  22.9614  0.315607 -2.340695  0.040146   \n",
      "\n",
      "                           26   27     28  \n",
      "2019-08-06 12:29:34  19.22315  0.0  139.0  \n",
      "2019-08-06 12:29:35  19.19685  0.0  138.0  \n",
      "2019-08-06 12:29:36  19.32905  0.0  100.5  \n",
      "2019-08-06 12:29:37  19.16920  0.0  123.0  \n",
      "2019-08-06 12:29:38  19.15570  0.0  183.5  \n",
      "2019-08-06 12:29:39  19.17790  0.0  165.5  \n",
      "2019-08-06 12:29:40  19.17965  0.0  186.0  \n",
      "2019-08-06 12:29:41  20.21510  0.0  116.5  \n",
      "2019-08-06 12:29:42  19.11385  0.0   86.0  \n",
      "2019-08-06 12:29:43  19.14855  0.0  117.0  \n",
      "\n",
      "[10 rows x 30 columns]\n"
     ]
    }
   ],
   "source": [
    "videos_w_labels = []\n",
    "\n",
    "for video_df in video_dfs:\n",
    "    videos_w_labels.append(\n",
    "        pd.merge_asof(\n",
    "            video_df,\n",
    "            label_df,\n",
    "            left_index=True,\n",
    "            right_index=True,\n",
    "            tolerance=pd.Timedelta(\"3S\"),\n",
    "            direction=\"nearest\",\n",
    "        )\n",
    "    )\n",
    "\n",
    "\n",
    "video0_df_w_labels = pd.merge_asof(\n",
    "    video0_df,\n",
    "    label_df,\n",
    "    left_index=True,\n",
    "    right_index=True,\n",
    "    tolerance=pd.Timedelta(\"3S\"),\n",
    "    direction=\"nearest\",\n",
    ")\n",
    "\n",
    "print(video0_df_w_labels.shape)\n",
    "print(video0_df_w_labels.head(10))"
   ]
  },
  {
   "cell_type": "code",
   "execution_count": 19,
   "id": "7c968e63-ee59-48a2-88c4-a68d6d793b9e",
   "metadata": {},
   "outputs": [
    {
     "data": {
      "text/plain": [
       "False"
      ]
     },
     "execution_count": 19,
     "metadata": {},
     "output_type": "execute_result"
    }
   ],
   "source": [
    "any(video0_df_w_labels[23] == video0_df_w_labels[23].shift(1))"
   ]
  },
  {
   "cell_type": "markdown",
   "id": "6f3ca526-11ab-4f52-a890-bd356a982cd2",
   "metadata": {},
   "source": [
    "# Getting video and labels out of dataframe\n",
    "* get out one thing for the labels, on thing for the video\n",
    "* make sure that the video is just a 3d nparray"
   ]
  },
  {
   "cell_type": "code",
   "execution_count": 232,
   "id": "99f1a454-ff05-461d-a402-1b01f1ee356b",
   "metadata": {},
   "outputs": [
    {
     "name": "stdout",
     "output_type": "stream",
     "text": [
      "(1144, 436, 496)\n"
     ]
    }
   ],
   "source": [
    "video = np.stack(video0_df_w_labels[\"frames\"].to_list(), axis=0)\n",
    "print(video.shape)\n",
    "\n",
    "# video_np from earlier is already this..."
   ]
  },
  {
   "cell_type": "code",
   "execution_count": 20,
   "id": "7b9766ef-23e8-459f-abe0-20ee88beb224",
   "metadata": {},
   "outputs": [
    {
     "name": "stdout",
     "output_type": "stream",
     "text": [
      "(1144, 1)\n"
     ]
    }
   ],
   "source": [
    "labels = [28]\n",
    "\n",
    "label_np = []\n",
    "for video_w_label in videos_w_labels:\n",
    "    label_np.append(video_w_label[labels].to_numpy())\n",
    "\n",
    "labels = video0_df_w_labels[labels].to_numpy()\n",
    "print(labels.shape)"
   ]
  },
  {
   "cell_type": "markdown",
   "id": "3c5abdaa-4d7f-4ebc-a677-f2900552cc96",
   "metadata": {},
   "source": [
    "Somehow take the center of this:\n",
    "\n",
    "for now just take width and height from shape\n",
    "divide it by four\n",
    "\n",
    "then take the middle half"
   ]
  },
  {
   "cell_type": "code",
   "execution_count": 21,
   "id": "da235d58-3e5d-4e3a-88b7-b918eff91700",
   "metadata": {},
   "outputs": [],
   "source": [
    "# might not be the right order!\n",
    "\n",
    "\n",
    "def get_middle(a):\n",
    "    video0 = a\n",
    "    frames, height, width = video0.shape\n",
    "\n",
    "    cut_off = 4\n",
    "\n",
    "    left = width // cut_off\n",
    "    right = width - left\n",
    "    top = height // cut_off\n",
    "    bottom = height - top\n",
    "\n",
    "    video0 = video0[:, top:bottom, left:right]\n",
    "    return video0"
   ]
  },
  {
   "cell_type": "code",
   "execution_count": 22,
   "id": "60937fd2-3042-4214-8554-73b5ffa29c96",
   "metadata": {},
   "outputs": [],
   "source": [
    "def replace_nan_with_mean(a):\n",
    "    return np.where(np.isnan(a), np.ones_like(a) * np.nanmean(a), a)"
   ]
  },
  {
   "cell_type": "markdown",
   "id": "740c06f4-4d26-4e1b-9a9c-3cb318c7546d",
   "metadata": {},
   "source": [
    "detrending:\n",
    "* take 30 seconds of video\n",
    "* wow so detrend...\n",
    "* for every frame find median value\n",
    "* everything above median is white (1), everything below is black(0)"
   ]
  },
  {
   "cell_type": "code",
   "execution_count": 35,
   "id": "8e828d77-74dc-4ada-b34d-0590f048144d",
   "metadata": {},
   "outputs": [
    {
     "name": "stdout",
     "output_type": "stream",
     "text": [
      "(626, 28, 31, 1)\n",
      "(626, 28, 31)\n",
      "1.6213766261413367\n",
      "-1.5715870755981505\n",
      "0.931345080452759\n",
      "-0.025281401093776107\n"
     ]
    },
    {
     "data": {
      "text/plain": [
       "<matplotlib.image.AxesImage at 0x21dcbe7ed00>"
      ]
     },
     "execution_count": 35,
     "metadata": {},
     "output_type": "execute_result"
    },
    {
     "data": {
      "image/png": "[encoded data removed]",
      "text/plain": [
       "<Figure size 432x288 with 1 Axes>"
      ]
     },
     "metadata": {
      "needs_background": "light"
     },
     "output_type": "display_data"
    }
   ],
   "source": [
    "from scipy import signal\n",
    "from functools import partial\n",
    "from skimage.transform import rescale\n",
    "\n",
    "print(video.shape)\n",
    "\n",
    "\n",
    "def get_frame_middle(frame, cut_off):\n",
    "    a = frame\n",
    "    height, width = a.shape\n",
    "\n",
    "    left = width // cut_off\n",
    "    right = width - left\n",
    "    top = height // cut_off\n",
    "    bottom = height - top\n",
    "\n",
    "    return a[top:bottom, left:right]\n",
    "\n",
    "\n",
    "def median_mask(b, n_dev):\n",
    "    a = b\n",
    "    std = np.std(a) * n_dev\n",
    "    median = np.median(a)\n",
    "    a[a < median - std] = median - std\n",
    "    a[a >= median + std] = median + std\n",
    "    return a\n",
    "\n",
    "\n",
    "def moving_average(video, window_size):\n",
    "    secs = np.arange(1, video.shape[0])\n",
    "    mavgl = []\n",
    "    for i in secs:\n",
    "        if i >= window_size:\n",
    "            mavgl.append(np.nanmean(video[i - window_size : i, :, :], axis=0))\n",
    "        else:\n",
    "            mavgl.append(np.nanmean(video[:i, :, :], axis=0))\n",
    "    return np.stack(mavgl, axis=0)\n",
    "\n",
    "\n",
    "# @numba.jit(nopython=True)\n",
    "def sigmoid(a):\n",
    "    return 1 / (1 + np.exp(-a))\n",
    "\n",
    "\n",
    "def subtract_median(a):\n",
    "    return a - np.median(a)\n",
    "\n",
    "\n",
    "def subtract_from_frame(a, sub):\n",
    "    return a - sub\n",
    "\n",
    "\n",
    "def divide_by_std(a):\n",
    "    return a / a.std()\n",
    "\n",
    "\n",
    "def apply_to_outer_axis(a, func, args=[]):\n",
    "    b = a\n",
    "    for i in range(b.shape[0]):\n",
    "        b[i] = func(b[i], *args)\n",
    "    return b\n",
    "\n",
    "\n",
    "def apply_funcs_to_outer_axis(a, funcs):\n",
    "    \"\"\"\n",
    "    args:\n",
    "    a: thing to apply over\n",
    "    funcs: list of functions to apply over, can take args\n",
    "        for example:\n",
    "            funcs = [f_a, f_b]\n",
    "            funcs = [(f_a, [1,2,3]), (f_b, [1])]\n",
    "        a functions with args should be a pair with the args as a list\n",
    "    \"\"\"\n",
    "    for i, f in enumerate(funcs):\n",
    "        if callable(f):\n",
    "            funcs[i] = (f, [])\n",
    "\n",
    "    b = []\n",
    "    for i in range(a.shape[0]):\n",
    "        b.append(a[i])\n",
    "        for f, args in funcs:\n",
    "            b[i] = f(b[i], *args)\n",
    "    return np.stack(b, axis=0)\n",
    "\n",
    "\n",
    "# video = apply_to_outer_axis(video, median_mask)\n",
    "# video = apply_funcs_to_outer_axis(\n",
    "#     video, [(get_frame_middle, [4]), subtract_median, sigmoid]\n",
    "# )\n",
    "\n",
    "videos_processed = []\n",
    "for video in video_np:\n",
    "    video = replace_nan_with_mean(video)\n",
    "    video = get_middle(video)\n",
    "    video = (video - np.median(video)) / video.std()\n",
    "    video = scipy.signal.detrend(video, axis=0)\n",
    "    video = moving_average(video, 3)\n",
    "    video = apply_to_outer_axis(video, subtract_median)\n",
    "    video = apply_to_outer_axis(video, np.tanh)\n",
    "    video = apply_to_outer_axis(video, median_mask, [2])\n",
    "    video = apply_to_outer_axis(video, divide_by_std)\n",
    "    b = []\n",
    "    for i in range(video.shape[0]):\n",
    "        b.append(rescale(video[i], 0.5, anti_aliasing=False))\n",
    "    video = np.stack(b, axis=0)\n",
    "    videos_processed.append(video)\n",
    "\n",
    "\n",
    "# video = replace_nan_with_mean(video)\n",
    "# video = get_middle(video)\n",
    "# video = (video - np.median(video)) / video.std()\n",
    "# video = scipy.signal.detrend(video, axis=0)\n",
    "# video = moving_average(video, 3)\n",
    "# video = apply_to_outer_axis(video, subtract_median)\n",
    "# video = apply_to_outer_axis(video, np.tanh)\n",
    "# video = apply_to_outer_axis(video, median_mask, [2])\n",
    "# video = apply_to_outer_axis(video, divide_by_std)\n",
    "# b = []\n",
    "# for i in range(video.shape[0]):\n",
    "#     b.append(rescale(video[i], 0.5, anti_aliasing=False))\n",
    "# video = np.stack(b, axis=0)\n",
    "\n",
    "\n",
    "print(video.shape)\n",
    "print(video[0].max())\n",
    "print(video[0].min())\n",
    "print(video[0].std())\n",
    "print(video[0].mean())\n",
    "\n",
    "import matplotlib.pyplot as plt\n",
    "\n",
    "plt.imshow(np.mean(video, axis=0))"
   ]
  },
  {
   "cell_type": "markdown",
   "id": "d3ec7913-817e-49b8-a137-0c9c896182c1",
   "metadata": {},
   "source": [
    "# sucessfull video pre-processing stacks\n",
    "* subtract_median, sigmoid, detrend_all, median_mask\n",
    "* subtract_median, sigmoid, detrend_all, median_mask(2nd dev)"
   ]
  },
  {
   "cell_type": "code",
   "execution_count": 38,
   "id": "546d16fa-c8df-4902-97b7-bda6bd43ea1d",
   "metadata": {},
   "outputs": [],
   "source": [
    "def Tensor_to_video(Tensor, path):\n",
    "    Tensor = tf.where(\n",
    "        tf.math.is_nan(Tensor),\n",
    "        tf.ones_like(Tensor) * np.nanmean(Tensor.numpy()),\n",
    "        Tensor,\n",
    "    )\n",
    "    video = tf.cast(255 * min_max_norm(Tensor), tf.uint8)\n",
    "    frames, width, height = video.shape\n",
    "    _fourcc = cv2.VideoWriter_fourcc(*\"MP4V\")\n",
    "    out = cv2.VideoWriter(path, _fourcc, 10, (width, height))\n",
    "    for i in range(frames):\n",
    "        img = video[i, :, :]\n",
    "        img = tf.repeat(tf.expand_dims(tf.transpose(img), axis=-1), 3, axis=2).numpy()\n",
    "        out.write(img)\n",
    "\n",
    "\n",
    "def min_max_norm(Tensor):\n",
    "    min = tf.reduce_min(Tensor)\n",
    "    max = tf.reduce_max(Tensor)\n",
    "    return (Tensor - min) / (max - min)\n",
    "\n",
    "\n",
    "# video_path = os.path.join(data_dir, \"videos\", \"center_video.mp4\")\n",
    "# Tensor_to_video(tf.convert_to_tensor(video), video_path)\n",
    "\n",
    "# from IPython.display import Video\n",
    "\n",
    "# video_path = os.path.join(data_dir, \"videos\", \"center_video.mp4\")\n",
    "# Video(video_path)\n",
    "\n",
    "# allDone()"
   ]
  },
  {
   "cell_type": "markdown",
   "id": "fcb16cb1-b8e3-4873-a3ff-472b60048e3d",
   "metadata": {},
   "source": [
    "# things to try:\n",
    "* how much to downsample?\n",
    "* does our pre-processing do anything?\n",
    "<!-- * do we need the whole image -->"
   ]
  },
  {
   "cell_type": "code",
   "execution_count": 39,
   "id": "2bc9aa8e-2a81-4d1b-8bc0-6808a6f27bd1",
   "metadata": {},
   "outputs": [],
   "source": [
    "video = np.stack(np.atleast_3d(*video), axis=0)\n",
    "\n",
    "def add_axis_to_frames(a):\n",
    "    return np.stack(np.atleast_3d(*a), axis=0)\n",
    "\n",
    "videos_processed = list(map(add_axis_to_frames, videos_processed))\n"
   ]
  },
  {
   "cell_type": "markdown",
   "id": "714b4f47-0732-4a25-8046-452e31879a38",
   "metadata": {},
   "source": [
    "# ways to shape the data:\n",
    "* one big list for everything\n",
    "* 3d video chunks with a few consecutive frames"
   ]
  },
  {
   "cell_type": "code",
   "execution_count": 40,
   "id": "492c4848-6ee4-4986-99fe-42cfc0bcfb92",
   "metadata": {},
   "outputs": [],
   "source": [
    "labels = [28]\n",
    "\n",
    "label_np = []\n",
    "for video_w_label in videos_w_labels:\n",
    "    label_np.append(video_w_label[labels].to_numpy())"
   ]
  },
  {
   "cell_type": "code",
   "execution_count": 43,
   "id": "54f2e830-3adf-4a82-a1b0-d1c190bf9370",
   "metadata": {},
   "outputs": [],
   "source": [
    "#one big list\n",
    "video = np.concatenate(videos_processed, axis=0)\n",
    "labels = np.concatenate(label_np, axis=0)"
   ]
  },
  {
   "cell_type": "code",
   "execution_count": 44,
   "id": "95ed3977-8441-49f6-837c-e5567b1e940f",
   "metadata": {},
   "outputs": [
    {
     "data": {
      "text/plain": [
       "(4083, 109, 124, 1)"
      ]
     },
     "execution_count": 44,
     "metadata": {},
     "output_type": "execute_result"
    }
   ],
   "source": [
    "video.shape"
   ]
  },
  {
   "cell_type": "code",
   "execution_count": 45,
   "id": "b75422c3-6002-4db9-841f-049ee99c2a3a",
   "metadata": {},
   "outputs": [],
   "source": [
    "def train_val_test(train, val, test, X, y):\n",
    "    assert train + val + test == 1\n",
    "    data_len = len(X)\n",
    "    train_size = int(train * data_len)\n",
    "    val_size = int(val * data_len)\n",
    "    test_size = int(test * data_len)\n",
    "\n",
    "    splits = [\n",
    "        (0, train_size),\n",
    "        (train_size, train_size + val_size),\n",
    "        (train_size + val_size, data_len),\n",
    "    ]\n",
    "\n",
    "    x_out = []\n",
    "    y_out = []\n",
    "    for a, b in splits:\n",
    "        x_out.append(X[a:b])\n",
    "        y_out.append(y[a:b])\n",
    "\n",
    "    return (*x_out, *y_out)\n",
    "\n",
    "\n",
    "x_train, x_val, x_test, y_train, y_val, y_test = train_val_test(\n",
    "    0.8, 0.1, 0.1, video, labels\n",
    ")"
   ]
  },
  {
   "cell_type": "code",
   "execution_count": 46,
   "id": "a038aabb-db8d-47a8-a314-9048892431e1",
   "metadata": {},
   "outputs": [],
   "source": [
    "from numpy.random import default_rng\n",
    "\n",
    "\n",
    "def shuffle_dfs(a, b):\n",
    "    assert a.shape[0] == b.shape[0]\n",
    "    length = a.shape[0]\n",
    "    x = a\n",
    "    y = b\n",
    "    rng = default_rng()\n",
    "    idx = rng.choice(length, length)\n",
    "    x = x[idx]\n",
    "    y = y[idx]\n",
    "    return x, y\n",
    "\n",
    "\n",
    "# x_train, y_train = shuffle_dfs(x_train, y_train)"
   ]
  },
  {
   "cell_type": "code",
   "execution_count": 47,
   "id": "d1183720-591b-49f6-9f86-8ae0b11a79cc",
   "metadata": {},
   "outputs": [],
   "source": [
    "import tensorflow as tf\n",
    "\n",
    "tf.random.set_seed(1234)\n",
    "batch_size = 50"
   ]
  },
  {
   "cell_type": "code",
   "execution_count": 48,
   "id": "e3d0bb78-56de-4db3-a32d-fc1e0e142de3",
   "metadata": {},
   "outputs": [],
   "source": [
    "model = tf.keras.Sequential(\n",
    "    [\n",
    "        #         tf.keras.layers.BatchNormalization(),\n",
    "        tf.keras.layers.Conv2D(20, 30, activation=\"relu\", input_shape=x_train[0].shape),\n",
    "        tf.keras.layers.MaxPooling2D(pool_size=(2, 2)),\n",
    "        tf.keras.layers.Conv2D(10, 5, activation=\"relu\", input_shape=x_train[0].shape),\n",
    "        tf.keras.layers.MaxPooling2D(pool_size=(2, 2)),\n",
    "        tf.keras.layers.Flatten(),\n",
    "        tf.keras.layers.Dense(50, activation=\"relu\"),\n",
    "        tf.keras.layers.Dense(50, activation=\"relu\"),\n",
    "        #             tf.keras.layers.Dropout(0.3),\n",
    "        tf.keras.layers.Dense(1),\n",
    "    ]\n",
    ")\n",
    "\n",
    "model.compile(\n",
    "    optimizer=\"adam\",\n",
    "    loss=tf.keras.losses.MeanSquaredError(reduction=\"auto\", name=\"mean_squared_error\"),\n",
    "    metrics=[\"accuracy\", \"mean_absolute_error\"],\n",
    ")"
   ]
  },
  {
   "cell_type": "code",
   "execution_count": 49,
   "id": "6b7c9f04-8cb8-4296-b92a-0ffdf2bdacbb",
   "metadata": {},
   "outputs": [],
   "source": [
    "callback = tf.keras.callbacks.EarlyStopping(\n",
    "    monitor=\"val_mean_absolute_error\", patience=10, restore_best_weights=True\n",
    ")"
   ]
  },
  {
   "cell_type": "code",
   "execution_count": 50,
   "id": "716ca9cd-80c6-426f-ae69-6e03ac01a42a",
   "metadata": {},
   "outputs": [
    {
     "name": "stdout",
     "output_type": "stream",
     "text": [
      "(3266, 109, 124, 1)\n",
      "(3266, 1)\n"
     ]
    }
   ],
   "source": [
    "print(x_train.shape)\n",
    "print(y_train.shape)"
   ]
  },
  {
   "cell_type": "code",
   "execution_count": null,
   "id": "f36b4351-7a7d-4216-a9b1-05ab8f96b007",
   "metadata": {},
   "outputs": [
    {
     "name": "stdout",
     "output_type": "stream",
     "text": [
      "Epoch 1/100\n",
      "66/66 [==============================] - 8s 24ms/step - loss: 3089.1533 - accuracy: 0.0000e+00 - mean_absolute_error: 42.6202 - val_loss: 1751.5684 - val_accuracy: 0.0000e+00 - val_mean_absolute_error: 33.3710\n",
      "Epoch 2/100\n",
      "66/66 [==============================] - 1s 19ms/step - loss: 1427.2179 - accuracy: 0.0000e+00 - mean_absolute_error: 30.5871 - val_loss: 1417.1757 - val_accuracy: 0.0000e+00 - val_mean_absolute_error: 31.3337\n",
      "Epoch 3/100\n",
      "66/66 [==============================] - 1s 19ms/step - loss: 1381.3235 - accuracy: 0.0000e+00 - mean_absolute_error: 30.1863 - val_loss: 1381.8318 - val_accuracy: 0.0000e+00 - val_mean_absolute_error: 30.7204\n",
      "Epoch 4/100\n",
      "66/66 [==============================] - 1s 19ms/step - loss: 1414.5333 - accuracy: 0.0000e+00 - mean_absolute_error: 30.5188 - val_loss: 1752.7192 - val_accuracy: 0.0000e+00 - val_mean_absolute_error: 34.7179\n",
      "Epoch 5/100\n",
      "66/66 [==============================] - 1s 19ms/step - loss: 1372.0427 - accuracy: 0.0000e+00 - mean_absolute_error: 30.0968 - val_loss: 1517.9622 - val_accuracy: 0.0000e+00 - val_mean_absolute_error: 32.4381\n",
      "Epoch 6/100\n",
      "66/66 [==============================] - 1s 19ms/step - loss: 1338.6927 - accuracy: 0.0000e+00 - mean_absolute_error: 29.6220 - val_loss: 1532.3551 - val_accuracy: 0.0000e+00 - val_mean_absolute_error: 32.5467\n",
      "Epoch 7/100\n",
      "66/66 [==============================] - 1s 19ms/step - loss: 1383.0048 - accuracy: 0.0000e+00 - mean_absolute_error: 30.1835 - val_loss: 1439.3453 - val_accuracy: 0.0000e+00 - val_mean_absolute_error: 31.5702\n",
      "Epoch 8/100\n",
      "66/66 [==============================] - 1s 19ms/step - loss: 1332.4441 - accuracy: 0.0000e+00 - mean_absolute_error: 29.5014 - val_loss: 1395.8834 - val_accuracy: 0.0000e+00 - val_mean_absolute_error: 31.0158\n",
      "Epoch 9/100\n",
      "66/66 [==============================] - 1s 19ms/step - loss: 1316.7472 - accuracy: 0.0000e+00 - mean_absolute_error: 29.4143 - val_loss: 1675.0216 - val_accuracy: 0.0000e+00 - val_mean_absolute_error: 34.1251\n",
      "Epoch 10/100\n",
      "66/66 [==============================] - 1s 19ms/step - loss: 1331.0162 - accuracy: 0.0000e+00 - mean_absolute_error: 29.5001 - val_loss: 1667.3571 - val_accuracy: 0.0000e+00 - val_mean_absolute_error: 33.8607\n",
      "Epoch 11/100\n",
      "66/66 [==============================] - 1s 19ms/step - loss: 1319.9373 - accuracy: 0.0000e+00 - mean_absolute_error: 29.2973 - val_loss: 1384.7385 - val_accuracy: 0.0000e+00 - val_mean_absolute_error: 30.4720\n",
      "Epoch 12/100\n",
      "66/66 [==============================] - 1s 19ms/step - loss: 1355.4320 - accuracy: 0.0000e+00 - mean_absolute_error: 29.7469 - val_loss: 1374.8433 - val_accuracy: 0.0000e+00 - val_mean_absolute_error: 30.6767\n",
      "Epoch 13/100\n",
      "66/66 [==============================] - 1s 19ms/step - loss: 1317.8314 - accuracy: 0.0000e+00 - mean_absolute_error: 29.4142 - val_loss: 1533.2668 - val_accuracy: 0.0000e+00 - val_mean_absolute_error: 32.4780\n",
      "Epoch 14/100\n",
      "49/66 [=====================>........] - ETA: 0s - loss: 1271.5688 - accuracy: 0.0000e+00 - mean_absolute_error: 28.8539"
     ]
    }
   ],
   "source": [
    "model.fit(\n",
    "    x=x_train,\n",
    "    y=y_train,\n",
    "    batch_size=batch_size,\n",
    "    epochs=100,\n",
    "    validation_data=(x_val, y_val),\n",
    "    callbacks=[callback],\n",
    ")"
   ]
  },
  {
   "cell_type": "code",
   "execution_count": null,
   "id": "1b572e35-bd63-4bf3-8c53-93c39fd64e61",
   "metadata": {},
   "outputs": [],
   "source": [
    "model.evaluate(x=x_test, y=y_test)"
   ]
  },
  {
   "cell_type": "code",
   "execution_count": null,
   "id": "334d1b4a-3a95-4f19-ba3d-884a28dbd8d6",
   "metadata": {},
   "outputs": [],
   "source": [
    "preds = model.predict(x=x_test)"
   ]
  },
  {
   "cell_type": "code",
   "execution_count": null,
   "id": "4aaad12a-e488-499e-b280-f38d14437f78",
   "metadata": {},
   "outputs": [],
   "source": [
    "def plot(l, r, preds, labels, width=20, height=7):\n",
    "    assert len(preds) == len(labels)\n",
    "    preds = preds[l:r]\n",
    "    labels = labels[l:r]\n",
    "    x = list(range(len(preds)))\n",
    "    plt.rcParams[\"figure.figsize\"] = [width, height]\n",
    "    plt.scatter(x, labels, label=\"labels\")\n",
    "    plt.scatter(x, preds, label=\"predictions\")\n",
    "    plt.legend()\n",
    "    plt.show()\n",
    "\n",
    "\n",
    "plot(69, 420, preds, y_test)\n",
    "allDone()"
   ]
  },
  {
   "cell_type": "code",
   "execution_count": null,
   "id": "a53ac6d2-b510-44de-8628-97c138a806de",
   "metadata": {},
   "outputs": [],
   "source": []
  }
 ],
 "metadata": {
  "kernelspec": {
   "display_name": "tf",
   "language": "python",
   "name": "tf"
  },
  "language_info": {
   "codemirror_mode": {
    "name": "ipython",
    "version": 3
   },
   "file_extension": ".py",
   "mimetype": "text/x-python",
   "name": "python",
   "nbconvert_exporter": "python",
   "pygments_lexer": "ipython3",
   "version": "3.8.10"
  }
 },
 "nbformat": 4,
 "nbformat_minor": 5
}
