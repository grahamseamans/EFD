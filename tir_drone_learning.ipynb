{
 "cells": [
  {
   "cell_type": "code",
   "execution_count": 38,
   "id": "69783735-0719-4bf2-aab9-e11b4a409ce3",
   "metadata": {},
   "outputs": [],
   "source": [
    "import os\n",
    "import pandas as pd\n",
    "import numpy as np\n",
    "import tensorflow as tf\n",
    "import cv2\n",
    "import scipy"
   ]
  },
  {
   "cell_type": "code",
   "execution_count": 2,
   "id": "07a848df-6480-4626-ad74-edde50942ff7",
   "metadata": {},
   "outputs": [],
   "source": [
    "from IPython.display import Audio, display\n",
    "\n",
    "url_exception = \"http://www.wav-sounds.com/movie/austinpowers.wav\"\n",
    "url_exception = \"https://www.myinstants.com/media/sounds/roblox-death-sound_1.mp3\"\n",
    "\n",
    "\n",
    "def play_sound(self, etype, value, tb, tb_offset=None):\n",
    "    self.showtraceback((etype, value, tb), tb_offset=tb_offset)\n",
    "    display(Audio(url=url_exception, autoplay=True))\n",
    "\n",
    "\n",
    "get_ipython().set_custom_exc((Exception,), play_sound)\n",
    "\n",
    "url_done = (\n",
    "    \"https://sound.peal.io/ps/audios/000/000/537/original/woo_vu_luvub_dub_dub.wav\"\n",
    ")\n",
    "url_done = \"https://www.myinstants.com/media/sounds/taco-bell-bong-sfx.mp3\"\n",
    "url_done = \"https://www.myinstants.com/media/sounds/magic_immune.mp3\"\n",
    "# url_done=\"https://www.myinstants.com/media/sounds/tindeck_1.mp3\"\n",
    "# url_done=\"https://www.myinstants.com/media/sounds/dun_dun_1.mp3\"\n",
    "\n",
    "\n",
    "def allDone():\n",
    "    display(\n",
    "        Audio(\n",
    "            url=url_done,\n",
    "            autoplay=True,\n",
    "        )\n",
    "    )"
   ]
  },
  {
   "cell_type": "code",
   "execution_count": 3,
   "id": "74db8747-2d8f-47af-9e34-186413eddea8",
   "metadata": {},
   "outputs": [],
   "source": [
    "data_dir = os.path.join(os.getcwd(), \"data\")\n",
    "drone_dir = os.path.join(data_dir, \"tir_pavel\")"
   ]
  },
  {
   "cell_type": "code",
   "execution_count": 89,
   "id": "8810b673-f781-4099-930d-e024064788ff",
   "metadata": {},
   "outputs": [
    {
     "name": "stdout",
     "output_type": "stream",
     "text": [
      "(1144, 436, 496)\n"
     ]
    }
   ],
   "source": [
    "video0 = np.load(os.path.join(drone_dir, \"pavel0.npy\"))\n",
    "print(video0.shape)"
   ]
  },
  {
   "cell_type": "code",
   "execution_count": 5,
   "id": "89f3c0ba-5754-45db-a5f3-c172da665d2e",
   "metadata": {},
   "outputs": [
    {
     "name": "stdout",
     "output_type": "stream",
     "text": [
      "(1144, 436, 496)\n"
     ]
    }
   ],
   "source": [
    "import datetime as dt\n",
    "\n",
    "timestamp0 = np.load(os.path.join(drone_dir, \"timestamp0.npy\")).squeeze()\n",
    "print(video0.shape)\n",
    "\n",
    "\n",
    "def md(matlab_datenum):\n",
    "    day = dt.datetime.fromordinal(int(matlab_datenum))\n",
    "    dayfrac = dt.timedelta(days=matlab_datenum % 1) - dt.timedelta(days=366)\n",
    "    return pd.Timestamp(day + dayfrac).round(\"S\")\n",
    "\n",
    "\n",
    "matlab_to_date = np.vectorize(md)\n",
    "timestamp0 = matlab_to_date(timestamp0)"
   ]
  },
  {
   "cell_type": "code",
   "execution_count": 6,
   "id": "df665b92-89e2-4a62-8d01-c5900054c188",
   "metadata": {},
   "outputs": [
    {
     "data": {
      "text/html": [
       "<div>\n",
       "<style scoped>\n",
       "    .dataframe tbody tr th:only-of-type {\n",
       "        vertical-align: middle;\n",
       "    }\n",
       "\n",
       "    .dataframe tbody tr th {\n",
       "        vertical-align: top;\n",
       "    }\n",
       "\n",
       "    .dataframe thead th {\n",
       "        text-align: right;\n",
       "    }\n",
       "</style>\n",
       "<table border=\"1\" class=\"dataframe\">\n",
       "  <thead>\n",
       "    <tr style=\"text-align: right;\">\n",
       "      <th></th>\n",
       "      <th>frame</th>\n",
       "    </tr>\n",
       "  </thead>\n",
       "  <tbody>\n",
       "    <tr>\n",
       "      <th>2019-08-06 12:29:34</th>\n",
       "      <td>[[nan, nan, nan, nan, nan, nan, nan, nan, nan,...</td>\n",
       "    </tr>\n",
       "    <tr>\n",
       "      <th>2019-08-06 12:29:35</th>\n",
       "      <td>[[nan, nan, nan, nan, nan, nan, nan, nan, nan,...</td>\n",
       "    </tr>\n",
       "    <tr>\n",
       "      <th>2019-08-06 12:29:36</th>\n",
       "      <td>[[nan, nan, nan, nan, nan, nan, nan, nan, nan,...</td>\n",
       "    </tr>\n",
       "    <tr>\n",
       "      <th>2019-08-06 12:29:37</th>\n",
       "      <td>[[nan, nan, nan, nan, nan, nan, nan, nan, nan,...</td>\n",
       "    </tr>\n",
       "    <tr>\n",
       "      <th>2019-08-06 12:29:38</th>\n",
       "      <td>[[nan, nan, nan, nan, nan, nan, nan, nan, nan,...</td>\n",
       "    </tr>\n",
       "    <tr>\n",
       "      <th>...</th>\n",
       "      <td>...</td>\n",
       "    </tr>\n",
       "    <tr>\n",
       "      <th>2019-08-06 12:48:33</th>\n",
       "      <td>[[nan, nan, nan, nan, nan, nan, nan, nan, nan,...</td>\n",
       "    </tr>\n",
       "    <tr>\n",
       "      <th>2019-08-06 12:48:34</th>\n",
       "      <td>[[nan, nan, nan, nan, nan, nan, nan, nan, nan,...</td>\n",
       "    </tr>\n",
       "    <tr>\n",
       "      <th>2019-08-06 12:48:35</th>\n",
       "      <td>[[nan, nan, nan, nan, nan, nan, nan, nan, nan,...</td>\n",
       "    </tr>\n",
       "    <tr>\n",
       "      <th>2019-08-06 12:48:36</th>\n",
       "      <td>[[nan, nan, nan, nan, nan, nan, nan, nan, nan,...</td>\n",
       "    </tr>\n",
       "    <tr>\n",
       "      <th>2019-08-06 12:48:37</th>\n",
       "      <td>[[nan, nan, nan, nan, nan, nan, nan, nan, nan,...</td>\n",
       "    </tr>\n",
       "  </tbody>\n",
       "</table>\n",
       "<p>1144 rows × 1 columns</p>\n",
       "</div>"
      ],
      "text/plain": [
       "                                                                 frame\n",
       "2019-08-06 12:29:34  [[nan, nan, nan, nan, nan, nan, nan, nan, nan,...\n",
       "2019-08-06 12:29:35  [[nan, nan, nan, nan, nan, nan, nan, nan, nan,...\n",
       "2019-08-06 12:29:36  [[nan, nan, nan, nan, nan, nan, nan, nan, nan,...\n",
       "2019-08-06 12:29:37  [[nan, nan, nan, nan, nan, nan, nan, nan, nan,...\n",
       "2019-08-06 12:29:38  [[nan, nan, nan, nan, nan, nan, nan, nan, nan,...\n",
       "...                                                                ...\n",
       "2019-08-06 12:48:33  [[nan, nan, nan, nan, nan, nan, nan, nan, nan,...\n",
       "2019-08-06 12:48:34  [[nan, nan, nan, nan, nan, nan, nan, nan, nan,...\n",
       "2019-08-06 12:48:35  [[nan, nan, nan, nan, nan, nan, nan, nan, nan,...\n",
       "2019-08-06 12:48:36  [[nan, nan, nan, nan, nan, nan, nan, nan, nan,...\n",
       "2019-08-06 12:48:37  [[nan, nan, nan, nan, nan, nan, nan, nan, nan,...\n",
       "\n",
       "[1144 rows x 1 columns]"
      ]
     },
     "execution_count": 6,
     "metadata": {},
     "output_type": "execute_result"
    }
   ],
   "source": [
    "video0_df = pd.DataFrame({\"frame\": [*video0]})\n",
    "video0_df.index = timestamp0\n",
    "video0_df"
   ]
  },
  {
   "cell_type": "markdown",
   "id": "126e88f3-f1d4-4571-a8c7-0f10d7dd5a4d",
   "metadata": {},
   "source": [
    "#### merging the two:\n",
    "\n",
    "making the data more coarse: \n",
    "* https://stackoverflow.com/a/39952846/6293070\n",
    "* https://pandas.pydata.org/pandas-docs/stable/reference/api/pandas.DataFrame.resample.html \n",
    "* we probably want to resample down to half seconds? and take that average?\n",
    "\n",
    "merging the two:\n",
    "* https://pandas.pydata.org/pandas-docs/stable/reference/api/pandas.merge_asof.html#pandas.merge_asof\n",
    "* https://stackoverflow.com/a/43979285/6293070\n",
    "    "
   ]
  },
  {
   "cell_type": "code",
   "execution_count": 7,
   "id": "b8d2d0b6-202e-4ff6-bfc2-af45666e9745",
   "metadata": {},
   "outputs": [
    {
     "name": "stdout",
     "output_type": "stream",
     "text": [
      "(503881, 29)\n"
     ]
    }
   ],
   "source": [
    "label_df_1 = pd.read_hdf(os.path.join(drone_dir, \"pavel_label_1\"), \"/df\")\n",
    "label_df_2 = pd.read_hdf(os.path.join(drone_dir, \"pavel_label_2\"), \"/df\")\n",
    "label_df = pd.concat([label_df_1, label_df_2], axis=0)\n",
    "print(label_df.shape)"
   ]
  },
  {
   "cell_type": "code",
   "execution_count": 8,
   "id": "726da0aa-e6d5-4687-bbd1-954ec5b02c16",
   "metadata": {},
   "outputs": [
    {
     "name": "stdout",
     "output_type": "stream",
     "text": [
      "(1924190, 29)\n"
     ]
    }
   ],
   "source": [
    "label_df = label_df.resample(\"1S\").median()\n",
    "print(label_df.shape)"
   ]
  },
  {
   "cell_type": "code",
   "execution_count": 9,
   "id": "7babe07f-41f5-49c6-b619-f16883c7f6d7",
   "metadata": {},
   "outputs": [
    {
     "name": "stdout",
     "output_type": "stream",
     "text": [
      "0 days 00:00:05\n",
      "0 days 00:00:00.500000\n"
     ]
    }
   ],
   "source": [
    "print(pd.Timedelta(\"5S\"))\n",
    "print(pd.Timedelta(\"500L\"))"
   ]
  },
  {
   "cell_type": "code",
   "execution_count": 10,
   "id": "150afdc4-dde1-4974-b701-317ea6ab07a0",
   "metadata": {},
   "outputs": [
    {
     "name": "stdout",
     "output_type": "stream",
     "text": [
      "(1144, 30)\n",
      "                                                                 frame  \\\n",
      "2019-08-06 12:29:34  [[nan, nan, nan, nan, nan, nan, nan, nan, nan,...   \n",
      "2019-08-06 12:29:35  [[nan, nan, nan, nan, nan, nan, nan, nan, nan,...   \n",
      "2019-08-06 12:29:36  [[nan, nan, nan, nan, nan, nan, nan, nan, nan,...   \n",
      "2019-08-06 12:29:37  [[nan, nan, nan, nan, nan, nan, nan, nan, nan,...   \n",
      "2019-08-06 12:29:38  [[nan, nan, nan, nan, nan, nan, nan, nan, nan,...   \n",
      "2019-08-06 12:29:39  [[nan, nan, nan, nan, nan, nan, nan, nan, nan,...   \n",
      "2019-08-06 12:29:40  [[nan, nan, nan, nan, nan, nan, nan, nan, nan,...   \n",
      "2019-08-06 12:29:41  [[nan, nan, nan, nan, nan, nan, nan, nan, nan,...   \n",
      "2019-08-06 12:29:42  [[nan, nan, nan, nan, nan, nan, nan, nan, nan,...   \n",
      "2019-08-06 12:29:43  [[nan, nan, nan, nan, nan, nan, nan, nan, nan,...   \n",
      "\n",
      "                            0         1        2         3         4  \\\n",
      "2019-08-06 12:29:34  15.47190  303.8815  19.6952  97.70690 -0.913253   \n",
      "2019-08-06 12:29:35  15.47165  301.3815  19.6952  97.70570 -0.914776   \n",
      "2019-08-06 12:29:36  15.47005  304.8920  19.6952  97.70850 -0.910818   \n",
      "2019-08-06 12:29:37  15.47355  300.3725  19.6952  97.70630 -0.915386   \n",
      "2019-08-06 12:29:38  15.46145  315.2350  19.6952  97.70770 -0.916300   \n",
      "2019-08-06 12:29:39  15.47200  303.7530  19.6982  97.70760 -0.919345   \n",
      "2019-08-06 12:29:40  15.47120  305.8085  19.6982  97.70440 -0.919650   \n",
      "2019-08-06 12:29:41  15.47140  330.1105  19.6982  97.70535 -0.915081   \n",
      "2019-08-06 12:29:42  15.47375  301.4455  19.6982  97.70210 -0.917213   \n",
      "2019-08-06 12:29:43  15.47585  300.4510  19.6967  97.70870 -0.914777   \n",
      "\n",
      "                            5         6         7         8  ...       19  \\\n",
      "2019-08-06 12:29:34  389.1105  392.0980  7.643795  7.702665  ...  39101.0   \n",
      "2019-08-06 12:29:35  389.1015  392.0715  7.578760  7.636625  ...  39101.0   \n",
      "2019-08-06 12:29:36  389.0795  392.0735  7.667890  7.727130  ...  39101.0   \n",
      "2019-08-06 12:29:37  389.1105  392.0765  7.552430  7.609895  ...  39101.5   \n",
      "2019-08-06 12:29:38  388.7600  391.8745  7.926335  7.989660  ...  39102.5   \n",
      "2019-08-06 12:29:39  389.0195  392.0275  7.636840  7.695600  ...  39101.0   \n",
      "2019-08-06 12:29:40  389.1105  392.1120  7.689570  7.749155  ...  39102.0   \n",
      "2019-08-06 12:29:41  389.0865  392.1820  8.302055  8.371550  ...  39100.5   \n",
      "2019-08-06 12:29:42  389.0830  392.0580  7.580155  7.638045  ...  39101.0   \n",
      "2019-08-06 12:29:43  389.1840  392.1585  7.557420  7.614960  ...  39100.5   \n",
      "\n",
      "                          20   21       22        23        24        25  \\\n",
      "2019-08-06 12:29:34  37670.0  4.0  22.9421  0.606105 -2.475560 -0.014221   \n",
      "2019-08-06 12:29:35  37670.0  4.0  22.9421  0.606688 -2.436160 -0.191220   \n",
      "2019-08-06 12:29:36  37671.0  4.0  22.9421  0.592013 -2.407295 -0.067681   \n",
      "2019-08-06 12:29:37  37671.0  4.0  22.9421  0.467297 -2.489610 -0.172974   \n",
      "2019-08-06 12:29:38  37670.5  4.0  22.9421  0.455854 -2.386860 -0.050823   \n",
      "2019-08-06 12:29:39  37671.0  4.0  22.9614  0.408049 -2.432540 -0.162052   \n",
      "2019-08-06 12:29:40  37671.0  4.0  22.9614  0.481849 -2.337640 -0.342309   \n",
      "2019-08-06 12:29:41  37670.0  4.0  22.9614  0.321928 -2.414830  0.090364   \n",
      "2019-08-06 12:29:42  37670.0  4.0  22.9614  0.365876 -2.248845  0.128219   \n",
      "2019-08-06 12:29:43  37670.0  4.0  22.9614  0.315607 -2.340695  0.040146   \n",
      "\n",
      "                           26   27     28  \n",
      "2019-08-06 12:29:34  19.22315  0.0  139.0  \n",
      "2019-08-06 12:29:35  19.19685  0.0  138.0  \n",
      "2019-08-06 12:29:36  19.32905  0.0  100.5  \n",
      "2019-08-06 12:29:37  19.16920  0.0  123.0  \n",
      "2019-08-06 12:29:38  19.15570  0.0  183.5  \n",
      "2019-08-06 12:29:39  19.17790  0.0  165.5  \n",
      "2019-08-06 12:29:40  19.17965  0.0  186.0  \n",
      "2019-08-06 12:29:41  20.21510  0.0  116.5  \n",
      "2019-08-06 12:29:42  19.11385  0.0   86.0  \n",
      "2019-08-06 12:29:43  19.14855  0.0  117.0  \n",
      "\n",
      "[10 rows x 30 columns]\n"
     ]
    }
   ],
   "source": [
    "video0_df_w_labels = pd.merge_asof(\n",
    "    video0_df,\n",
    "    label_df,\n",
    "    left_index=True,\n",
    "    right_index=True,\n",
    "    tolerance=pd.Timedelta(\"3S\"),\n",
    "    direction=\"nearest\",\n",
    ")\n",
    "\n",
    "print(video0_df_w_labels.shape)\n",
    "print(video0_df_w_labels.head(10))"
   ]
  },
  {
   "cell_type": "code",
   "execution_count": 11,
   "id": "7c968e63-ee59-48a2-88c4-a68d6d793b9e",
   "metadata": {},
   "outputs": [
    {
     "data": {
      "text/plain": [
       "False"
      ]
     },
     "execution_count": 11,
     "metadata": {},
     "output_type": "execute_result"
    }
   ],
   "source": [
    "any(video0_df_w_labels[23] == video0_df_w_labels[23].shift(1))"
   ]
  },
  {
   "cell_type": "markdown",
   "id": "3c5abdaa-4d7f-4ebc-a677-f2900552cc96",
   "metadata": {},
   "source": [
    "Somehow take the center of this:\n",
    "\n",
    "for now just take width and height from shape\n",
    "divide it by four\n",
    "\n",
    "then take the middle half"
   ]
  },
  {
   "cell_type": "code",
   "execution_count": 131,
   "id": "da235d58-3e5d-4e3a-88b7-b918eff91700",
   "metadata": {},
   "outputs": [],
   "source": [
    "# might not be the right order!\n",
    "\n",
    "def get_middle(a):\n",
    "    video0 = a\n",
    "    frames, height, width = video0.shape\n",
    "\n",
    "    cut_off = 4\n",
    "\n",
    "    left = width // cut_off\n",
    "    right = width - left\n",
    "    top = height // cut_off\n",
    "    bottom = height - top\n",
    "\n",
    "    video0 = video0[:, top:bottom, left:right]\n",
    "    return video0"
   ]
  },
  {
   "cell_type": "code",
   "execution_count": 132,
   "id": "60937fd2-3042-4214-8554-73b5ffa29c96",
   "metadata": {},
   "outputs": [],
   "source": [
    "def replace_nan_with_mean(a):\n",
    "    return np.where(np.isnan(a), np.ones_like(a) * np.nanmean(a), a)"
   ]
  },
  {
   "cell_type": "markdown",
   "id": "740c06f4-4d26-4e1b-9a9c-3cb318c7546d",
   "metadata": {},
   "source": [
    "detrending:\n",
    "* take 30 seconds of video\n",
    "* wow so detrend...\n",
    "* for every frame find median value\n",
    "* everything above median is white (1), everything below is black(0)"
   ]
  },
  {
   "cell_type": "code",
   "execution_count": 157,
   "id": "8e828d77-74dc-4ada-b34d-0590f048144d",
   "metadata": {},
   "outputs": [
    {
     "name": "stdout",
     "output_type": "stream",
     "text": [
      "(1144, 436, 496)\n",
      "(1144, 218, 248)\n"
     ]
    }
   ],
   "source": [
    "from scipy import signal\n",
    "from functools import partial\n",
    "\n",
    "video0 = np.load(os.path.join(drone_dir, \"pavel0.npy\"))\n",
    "print(video0.shape)\n",
    "\n",
    "video0 = get_middle(video0)\n",
    "video0 = replace_nan_with_mean(video0)\n",
    "\n",
    "# video_yeet = scipy.signal.detrend(video0, axis=0, bp=range(0,video0.shape[0],30))\n",
    "# video_yeet = scipy.signal.detrend(video0, axis=0)\n",
    "video_yeet = video0\n",
    "\n",
    "# print(video0)\n",
    "\n",
    "def median_mask(b):\n",
    "    a = b\n",
    "    std = np.std(a) / 2\n",
    "    a[a < np.median(a) - std] = 0\n",
    "    a[a >= np.median(a) + std] = 0\n",
    "    a[a != 0] = 1\n",
    "    return a\n",
    "    \n",
    "def apply_to_outer_axis(a, func, args=[]):\n",
    "    b = a\n",
    "    for i in range(b.shape[0]):\n",
    "        b[i] = func(b[i], *args)\n",
    "    return b\n",
    "\n",
    "# video_boi = apply_to_outer_axis(video_yeet, median_mask)\n",
    "video_boi = video_yeet\n",
    "\n",
    "print(video_boi.shape)\n",
    "# print(video_boi)"
   ]
  },
  {
   "cell_type": "code",
   "execution_count": 158,
   "id": "546d16fa-c8df-4902-97b7-bda6bd43ea1d",
   "metadata": {},
   "outputs": [],
   "source": [
    "def Tensor_to_video(Tensor, path):\n",
    "    # try l2 norm and then min_max\n",
    "    Tensor = tf.where(\n",
    "        tf.math.is_nan(Tensor),\n",
    "        tf.ones_like(Tensor) * np.nanmean(Tensor.numpy()),\n",
    "        Tensor,\n",
    "    )\n",
    "    video = tf.cast(255 * min_max_norm(Tensor), tf.uint8)\n",
    "    frames, width, height = video.shape\n",
    "    _fourcc = cv2.VideoWriter_fourcc(*\"MP4V\")\n",
    "    out = cv2.VideoWriter(path + \".mp4\", _fourcc, 10, (width, height))\n",
    "    for i in range(frames):\n",
    "        img = video[i, :, :]\n",
    "        img = tf.repeat(tf.expand_dims(tf.transpose(img), axis=-1), 3, axis=2).numpy()\n",
    "        out.write(img)\n",
    "\n",
    "\n",
    "def min_max_norm(Tensor):\n",
    "    min = tf.reduce_min(Tensor)\n",
    "    max = tf.reduce_max(Tensor)\n",
    "    return (Tensor - min) / (max - min)\n",
    "\n",
    "\n",
    "video_path = os.path.join(data_dir, \"videos\", \"center_video\")\n",
    "Tensor_to_video(tf.convert_to_tensor(video_boi), video_path)"
   ]
  },
  {
   "cell_type": "markdown",
   "id": "92038882-dfa1-456a-be65-99cb442c335a",
   "metadata": {},
   "source": [
    "label = np.load(os.path.join(drone_dir, \"pavel0.npy\"))"
   ]
  }
 ],
 "metadata": {
  "kernelspec": {
   "display_name": "Python 3.9.4 64-bit ('science': conda)",
   "language": "python",
   "name": "python394jvsc74a57bd09b1e682035909da262b4047180ab5eb64ce01801297df2614bf6f440de31e8c2"
  },
  "language_info": {
   "codemirror_mode": {
    "name": "ipython",
    "version": 3
   },
   "file_extension": ".py",
   "mimetype": "text/x-python",
   "name": "python",
   "nbconvert_exporter": "python",
   "pygments_lexer": "ipython3",
   "version": "3.9.4"
  }
 },
 "nbformat": 4,
 "nbformat_minor": 5
}
