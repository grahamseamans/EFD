{
 "cells": [
  {
   "cell_type": "code",
   "execution_count": 1,
   "id": "69783735-0719-4bf2-aab9-e11b4a409ce3",
   "metadata": {},
   "outputs": [],
   "source": [
    "import os\n",
    "import pandas as pd\n",
    "import numpy as np\n",
    "import dask\n",
    "import dask.dataframe as dd"
   ]
  },
  {
   "cell_type": "code",
   "execution_count": 2,
   "id": "07a848df-6480-4626-ad74-edde50942ff7",
   "metadata": {},
   "outputs": [],
   "source": [
    "from IPython.display import Audio, display\n",
    "\n",
    "url_exception = \"http://www.wav-sounds.com/movie/austinpowers.wav\"\n",
    "url_exception = \"https://www.myinstants.com/media/sounds/roblox-death-sound_1.mp3\"\n",
    "\n",
    "\n",
    "def play_sound(self, etype, value, tb, tb_offset=None):\n",
    "    self.showtraceback((etype, value, tb), tb_offset=tb_offset)\n",
    "    display(Audio(url=url_exception, autoplay=True))\n",
    "\n",
    "\n",
    "get_ipython().set_custom_exc((Exception,), play_sound)\n",
    "\n",
    "url_done = (\n",
    "    \"https://sound.peal.io/ps/audios/000/000/537/original/woo_vu_luvub_dub_dub.wav\"\n",
    ")\n",
    "url_done = \"https://www.myinstants.com/media/sounds/taco-bell-bong-sfx.mp3\"\n",
    "url_done = \"https://www.myinstants.com/media/sounds/magic_immune.mp3\"\n",
    "# url_done=\"https://www.myinstants.com/media/sounds/tindeck_1.mp3\"\n",
    "# url_done=\"https://www.myinstants.com/media/sounds/dun_dun_1.mp3\"\n",
    "\n",
    "\n",
    "def allDone():\n",
    "    display(\n",
    "        Audio(\n",
    "            url=url_done,\n",
    "            autoplay=True,\n",
    "        )\n",
    "    )"
   ]
  },
  {
   "cell_type": "code",
   "execution_count": 3,
   "id": "74db8747-2d8f-47af-9e34-186413eddea8",
   "metadata": {},
   "outputs": [],
   "source": [
    "data_dir = os.path.join(os.getcwd(), \"data\")\n",
    "drone_dir = os.path.join(data_dir, \"tir_pavel\")"
   ]
  },
  {
   "cell_type": "code",
   "execution_count": 4,
   "id": "8810b673-f781-4099-930d-e024064788ff",
   "metadata": {},
   "outputs": [
    {
     "name": "stdout",
     "output_type": "stream",
     "text": [
      "(1144, 436, 496)\n"
     ]
    }
   ],
   "source": [
    "video0 = np.load(os.path.join(drone_dir, \"pavel0.npy\"))\n",
    "print(video0.shape)"
   ]
  },
  {
   "cell_type": "code",
   "execution_count": 5,
   "id": "89f3c0ba-5754-45db-a5f3-c172da665d2e",
   "metadata": {},
   "outputs": [
    {
     "name": "stdout",
     "output_type": "stream",
     "text": [
      "(1144, 436, 496)\n"
     ]
    }
   ],
   "source": [
    "import datetime as dt\n",
    "\n",
    "timestamp0 = np.load(os.path.join(drone_dir, \"timestamp0.npy\")).squeeze()\n",
    "print(video0.shape)\n",
    "\n",
    "\n",
    "def md(matlab_datenum):\n",
    "    day = dt.datetime.fromordinal(int(matlab_datenum))\n",
    "    dayfrac = dt.timedelta(days=matlab_datenum % 1) - dt.timedelta(days=366)\n",
    "    return day + dayfrac\n",
    "\n",
    "\n",
    "matlab_to_date = np.vectorize(md)\n",
    "timestamp0 = matlab_to_date(timestamp0)"
   ]
  },
  {
   "cell_type": "code",
   "execution_count": 21,
   "id": "df665b92-89e2-4a62-8d01-c5900054c188",
   "metadata": {},
   "outputs": [
    {
     "data": {
      "text/html": [
       "<div>\n",
       "<style scoped>\n",
       "    .dataframe tbody tr th:only-of-type {\n",
       "        vertical-align: middle;\n",
       "    }\n",
       "\n",
       "    .dataframe tbody tr th {\n",
       "        vertical-align: top;\n",
       "    }\n",
       "\n",
       "    .dataframe thead th {\n",
       "        text-align: right;\n",
       "    }\n",
       "</style>\n",
       "<table border=\"1\" class=\"dataframe\">\n",
       "  <thead>\n",
       "    <tr style=\"text-align: right;\">\n",
       "      <th></th>\n",
       "      <th>frame</th>\n",
       "    </tr>\n",
       "  </thead>\n",
       "  <tbody>\n",
       "    <tr>\n",
       "      <th>2019-08-06 12:29:34.000004</th>\n",
       "      <td>[[nan, nan, nan, nan, nan, nan, nan, nan, nan,...</td>\n",
       "    </tr>\n",
       "    <tr>\n",
       "      <th>2019-08-06 12:29:35.000008</th>\n",
       "      <td>[[nan, nan, nan, nan, nan, nan, nan, nan, nan,...</td>\n",
       "    </tr>\n",
       "    <tr>\n",
       "      <th>2019-08-06 12:29:36.000003</th>\n",
       "      <td>[[nan, nan, nan, nan, nan, nan, nan, nan, nan,...</td>\n",
       "    </tr>\n",
       "    <tr>\n",
       "      <th>2019-08-06 12:29:37.000007</th>\n",
       "      <td>[[nan, nan, nan, nan, nan, nan, nan, nan, nan,...</td>\n",
       "    </tr>\n",
       "    <tr>\n",
       "      <th>2019-08-06 12:29:38.000002</th>\n",
       "      <td>[[nan, nan, nan, nan, nan, nan, nan, nan, nan,...</td>\n",
       "    </tr>\n",
       "    <tr>\n",
       "      <th>...</th>\n",
       "      <td>...</td>\n",
       "    </tr>\n",
       "    <tr>\n",
       "      <th>2019-08-06 12:48:33.000001</th>\n",
       "      <td>[[nan, nan, nan, nan, nan, nan, nan, nan, nan,...</td>\n",
       "    </tr>\n",
       "    <tr>\n",
       "      <th>2019-08-06 12:48:34.000006</th>\n",
       "      <td>[[nan, nan, nan, nan, nan, nan, nan, nan, nan,...</td>\n",
       "    </tr>\n",
       "    <tr>\n",
       "      <th>2019-08-06 12:48:35.000001</th>\n",
       "      <td>[[nan, nan, nan, nan, nan, nan, nan, nan, nan,...</td>\n",
       "    </tr>\n",
       "    <tr>\n",
       "      <th>2019-08-06 12:48:36.000005</th>\n",
       "      <td>[[nan, nan, nan, nan, nan, nan, nan, nan, nan,...</td>\n",
       "    </tr>\n",
       "    <tr>\n",
       "      <th>2019-08-06 12:48:37.000000</th>\n",
       "      <td>[[nan, nan, nan, nan, nan, nan, nan, nan, nan,...</td>\n",
       "    </tr>\n",
       "  </tbody>\n",
       "</table>\n",
       "<p>1144 rows × 1 columns</p>\n",
       "</div>"
      ],
      "text/plain": [
       "                                                                        frame\n",
       "2019-08-06 12:29:34.000004  [[nan, nan, nan, nan, nan, nan, nan, nan, nan,...\n",
       "2019-08-06 12:29:35.000008  [[nan, nan, nan, nan, nan, nan, nan, nan, nan,...\n",
       "2019-08-06 12:29:36.000003  [[nan, nan, nan, nan, nan, nan, nan, nan, nan,...\n",
       "2019-08-06 12:29:37.000007  [[nan, nan, nan, nan, nan, nan, nan, nan, nan,...\n",
       "2019-08-06 12:29:38.000002  [[nan, nan, nan, nan, nan, nan, nan, nan, nan,...\n",
       "...                                                                       ...\n",
       "2019-08-06 12:48:33.000001  [[nan, nan, nan, nan, nan, nan, nan, nan, nan,...\n",
       "2019-08-06 12:48:34.000006  [[nan, nan, nan, nan, nan, nan, nan, nan, nan,...\n",
       "2019-08-06 12:48:35.000001  [[nan, nan, nan, nan, nan, nan, nan, nan, nan,...\n",
       "2019-08-06 12:48:36.000005  [[nan, nan, nan, nan, nan, nan, nan, nan, nan,...\n",
       "2019-08-06 12:48:37.000000  [[nan, nan, nan, nan, nan, nan, nan, nan, nan,...\n",
       "\n",
       "[1144 rows x 1 columns]"
      ]
     },
     "execution_count": 21,
     "metadata": {},
     "output_type": "execute_result"
    }
   ],
   "source": [
    "video0_df = pd.DataFrame({\"frame\": [*video0]})\n",
    "video0_df.index = timestamp0\n",
    "video0_df"
   ]
  },
  {
   "cell_type": "markdown",
   "id": "126e88f3-f1d4-4571-a8c7-0f10d7dd5a4d",
   "metadata": {},
   "source": [
    "#### merging the two:\n",
    "\n",
    "making the data more coarse: \n",
    "* https://stackoverflow.com/a/39952846/6293070\n",
    "* https://pandas.pydata.org/pandas-docs/stable/reference/api/pandas.DataFrame.resample.html \n",
    "* we probably want to resample down to half seconds? and take that average?\n",
    "\n",
    "merging the two:\n",
    "* https://pandas.pydata.org/pandas-docs/stable/reference/api/pandas.merge_asof.html#pandas.merge_asof\n",
    "* https://stackoverflow.com/a/43979285/6293070\n",
    "    "
   ]
  },
  {
   "cell_type": "code",
   "execution_count": 32,
   "id": "b8d2d0b6-202e-4ff6-bfc2-af45666e9745",
   "metadata": {},
   "outputs": [
    {
     "name": "stdout",
     "output_type": "stream",
     "text": [
      "(503881, 29)\n"
     ]
    }
   ],
   "source": [
    "label_df_1 = pd.read_hdf(os.path.join(drone_dir, \"pavel_label_1\"), \"/df\")\n",
    "label_df_2 = pd.read_hdf(os.path.join(drone_dir, \"pavel_label_2\"), \"/df\")\n",
    "label_df = pd.concat([label_df_1, label_df_2], axis=0)\n",
    "print(label_df.shape)"
   ]
  },
  {
   "cell_type": "code",
   "execution_count": 37,
   "id": "726da0aa-e6d5-4687-bbd1-954ec5b02c16",
   "metadata": {},
   "outputs": [
    {
     "name": "stdout",
     "output_type": "stream",
     "text": [
      "(1924190, 29)\n"
     ]
    }
   ],
   "source": [
    "label_df = label_df.resample(\"1S\").median()\n",
    "print(label_df.shape)"
   ]
  },
  {
   "cell_type": "code",
   "execution_count": 38,
   "id": "150afdc4-dde1-4974-b701-317ea6ab07a0",
   "metadata": {},
   "outputs": [
    {
     "name": "stdout",
     "output_type": "stream",
     "text": [
      "                                                                        frame  \\\n",
      "2019-08-06 12:29:34.000004  [[nan, nan, nan, nan, nan, nan, nan, nan, nan,...   \n",
      "2019-08-06 12:29:35.000008  [[nan, nan, nan, nan, nan, nan, nan, nan, nan,...   \n",
      "2019-08-06 12:29:36.000003  [[nan, nan, nan, nan, nan, nan, nan, nan, nan,...   \n",
      "2019-08-06 12:29:37.000007  [[nan, nan, nan, nan, nan, nan, nan, nan, nan,...   \n",
      "2019-08-06 12:29:38.000002  [[nan, nan, nan, nan, nan, nan, nan, nan, nan,...   \n",
      "2019-08-06 12:29:39.000007  [[nan, nan, nan, nan, nan, nan, nan, nan, nan,...   \n",
      "2019-08-06 12:29:40.000001  [[nan, nan, nan, nan, nan, nan, nan, nan, nan,...   \n",
      "2019-08-06 12:29:41.000006  [[nan, nan, nan, nan, nan, nan, nan, nan, nan,...   \n",
      "2019-08-06 12:29:42.000000  [[nan, nan, nan, nan, nan, nan, nan, nan, nan,...   \n",
      "2019-08-06 12:29:43.000005  [[nan, nan, nan, nan, nan, nan, nan, nan, nan,...   \n",
      "\n",
      "                                   0         1        2         3         4  \\\n",
      "2019-08-06 12:29:34.000004  15.47223  303.3167  19.6955  97.70734 -0.913376   \n",
      "2019-08-06 12:29:35.000008  15.47231  301.5961  19.6964  97.70672 -0.913985   \n",
      "2019-08-06 12:29:36.000003  15.47062  305.0545  19.6958  97.70804 -0.911731   \n",
      "2019-08-06 12:29:37.000007  15.47375  300.6098  19.6961  97.70515 -0.915568   \n",
      "2019-08-06 12:29:38.000002  15.46096  316.0085  19.6964  97.70714 -0.916421   \n",
      "2019-08-06 12:29:39.000007  15.47238  304.2356  19.6973  97.70679 -0.918675   \n",
      "2019-08-06 12:29:40.000001  15.47152  306.6631  19.6973  97.70524 -0.919284   \n",
      "2019-08-06 12:29:41.000006  15.49304  324.2543  19.6970  97.70451 -0.917152   \n",
      "2019-08-06 12:29:42.000000  15.47373  302.6605  19.6976  97.70314 -0.917579   \n",
      "2019-08-06 12:29:43.000005  15.47499  300.7775  19.6967  97.70808 -0.915021   \n",
      "\n",
      "                                   5         6         7         8  ...  \\\n",
      "2019-08-06 12:29:34.000004  389.1174  392.1081  7.628242  7.686874  ...   \n",
      "2019-08-06 12:29:35.000008  389.0889  392.0620  7.584369  7.642323  ...   \n",
      "2019-08-06 12:29:36.000003  389.0470  392.0541  7.671344  7.730643  ...   \n",
      "2019-08-06 12:29:37.000007  389.1024  392.0658  7.559124  7.616691  ...   \n",
      "2019-08-06 12:29:38.000002  388.7747  391.8883  7.946216  8.009873  ...   \n",
      "2019-08-06 12:29:39.000007  389.0427  392.0416  7.649804  7.708771  ...   \n",
      "2019-08-06 12:29:40.000001  389.0406  392.0638  7.711222  7.771150  ...   \n",
      "2019-08-06 12:29:41.000006  389.6329  392.8361  8.154642  8.221783  ...   \n",
      "2019-08-06 12:29:42.000000  389.0954  392.0790  7.610567  7.668929  ...   \n",
      "2019-08-06 12:29:43.000005  389.1805  392.1464  7.564250  7.621898  ...   \n",
      "\n",
      "                                 19       20   21        22        23  \\\n",
      "2019-08-06 12:29:34.000004  39100.7  37670.2  4.0  22.94210  0.588528   \n",
      "2019-08-06 12:29:35.000008  39100.9  37670.2  4.0  22.94210  0.601818   \n",
      "2019-08-06 12:29:36.000003  39101.4  37670.6  4.0  22.94210  0.615978   \n",
      "2019-08-06 12:29:37.000007  39101.4  37670.9  4.0  22.94210  0.468142   \n",
      "2019-08-06 12:29:38.000002  39102.9  37670.4  4.0  22.94596  0.454830   \n",
      "2019-08-06 12:29:39.000007  39101.3  37670.8  4.0  22.96140  0.395455   \n",
      "2019-08-06 12:29:40.000001  39101.6  37670.7  4.0  22.96140  0.507953   \n",
      "2019-08-06 12:29:41.000006  39096.8  37670.2  4.0  22.96140  0.324451   \n",
      "2019-08-06 12:29:42.000000  39100.8  37670.4  4.0  22.96140  0.379219   \n",
      "2019-08-06 12:29:43.000005  39100.4  37670.1  4.0  22.95368  0.285385   \n",
      "\n",
      "                                  24        25        26   27     28  \n",
      "2019-08-06 12:29:34.000004 -2.459544  0.004325  19.28810  0.0  138.9  \n",
      "2019-08-06 12:29:35.000008 -2.428940 -0.142518  19.22673  0.0  114.5  \n",
      "2019-08-06 12:29:36.000003 -2.368308 -0.021562  19.34520  0.0  107.3  \n",
      "2019-08-06 12:29:37.000007 -2.513990 -0.167592  19.28463  0.0  131.0  \n",
      "2019-08-06 12:29:38.000002 -2.371459 -0.041056  19.30001  0.0  166.1  \n",
      "2019-08-06 12:29:39.000007 -2.435321 -0.154902  19.26561  0.0  138.7  \n",
      "2019-08-06 12:29:40.000001 -2.301289 -0.302825  19.26544  0.0  162.1  \n",
      "2019-08-06 12:29:41.000006 -2.439676  0.093901  19.88019  0.0  118.9  \n",
      "2019-08-06 12:29:42.000000 -2.251038  0.118100  19.11631  0.0  109.9  \n",
      "2019-08-06 12:29:43.000005 -2.331810  0.036424  19.17020  0.0  127.4  \n",
      "\n",
      "[10 rows x 30 columns]\n"
     ]
    }
   ],
   "source": [
    "video0_df_w_lables = pd.merge_asof(\n",
    "    video0_df,\n",
    "    label_df,\n",
    "    left_index=True,\n",
    "    right_index=True,\n",
    "    tolerance=pd.Timedelta(\"5S\"),\n",
    "    direction='nearest'\n",
    ")\n",
    "\n",
    "# print(video0_df.head(10))\n",
    "print(video0_df_w_lables.head(10))"
   ]
  },
  {
   "cell_type": "markdown",
   "id": "3c5abdaa-4d7f-4ebc-a677-f2900552cc96",
   "metadata": {},
   "source": [
    "Somehow take the center of this:\n",
    "\n",
    "for now just take width and height from shape\n",
    "divide it by four\n",
    "\n",
    "then take the middle half"
   ]
  },
  {
   "cell_type": "code",
   "execution_count": 18,
   "id": "da235d58-3e5d-4e3a-88b7-b918eff91700",
   "metadata": {},
   "outputs": [
    {
     "data": {
      "text/plain": [
       "(1144, 218, 248)"
      ]
     },
     "execution_count": 18,
     "metadata": {},
     "output_type": "execute_result"
    }
   ],
   "source": [
    "# might not be the right order!\n",
    "frames, height, width = video0.shape\n",
    "\n",
    "cut_off = 4\n",
    "\n",
    "left = width // cut_off\n",
    "right = width - left\n",
    "top = height // cut_off\n",
    "bottom = height - top\n",
    "\n",
    "video0 = video0[:, top:bottom, left:right]\n",
    "video0.shape"
   ]
  },
  {
   "cell_type": "markdown",
   "id": "92038882-dfa1-456a-be65-99cb442c335a",
   "metadata": {},
   "source": [
    "label = np.load(os.path.join(drone_dir, \"pavel0.npy\"))"
   ]
  }
 ],
 "metadata": {
  "kernelspec": {
   "display_name": "tf_metal",
   "language": "python",
   "name": "tf_metal"
  },
  "language_info": {
   "codemirror_mode": {
    "name": "ipython",
    "version": 3
   },
   "file_extension": ".py",
   "mimetype": "text/x-python",
   "name": "python",
   "nbconvert_exporter": "python",
   "pygments_lexer": "ipython3",
   "version": "3.8.6"
  }
 },
 "nbformat": 4,
 "nbformat_minor": 5
}
